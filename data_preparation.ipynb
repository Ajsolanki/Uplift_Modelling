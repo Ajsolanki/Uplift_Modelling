{
 "cells": [
  {
   "cell_type": "code",
   "execution_count": 3,
   "metadata": {},
   "outputs": [],
   "source": [
    "import pandas as pd\n",
    "import pyodbc\n",
    "from datetime import datetime, date\n",
    "import numpy as np\n",
    "import warnings \n",
    "import seaborn as sns\n",
    "warnings.filterwarnings('ignore')\n",
    "\n",
    "conn_str = (\"Driver={SQL Server Native Client 11.0};\"\n",
    "            \"Server=mskl-db-server.database.windows.net;\"\n",
    "            \"Database=tigeranalytics;\"\n",
    "            \"UID=tigerlearner;\"\n",
    "            \"PWD=AsDf1234;\")\n",
    "conn = pyodbc.connect(conn_str)"
   ]
  },
  {
   "cell_type": "code",
   "execution_count": 4,
   "metadata": {},
   "outputs": [],
   "source": [
    "customer_table = pd.read_sql(\"\"\"select * from marketing_customers_ml\"\"\", conn)\n",
    "order_df = pd.read_sql(\"select * from marketing_orders_ml\", conn)\n",
    "order_table = order_df.copy()\n",
    "transactions_table = pd.read_sql(\"select * from marketing_transactions_ml\", conn)"
   ]
  },
  {
   "attachments": {},
   "cell_type": "markdown",
   "metadata": {},
   "source": [
    "**Saving Table data into csv files**"
   ]
  },
  {
   "cell_type": "code",
   "execution_count": 5,
   "metadata": {},
   "outputs": [],
   "source": [
    "# customer_table.to_csv('customer.csv', index=False)\n",
    "# order_table.to_csv('order.csv', index=False)\n",
    "# transactions_table.to_csv('transactions.csv', index=False)\n",
    "\n",
    "# customer_table = pd.read_csv('customer.csv')\n",
    "# order_df = pd.read_csv('order.csv')\n",
    "# transactions_table = pd.read_csv('transactions.csv')"
   ]
  },
  {
   "cell_type": "code",
   "execution_count": 6,
   "metadata": {},
   "outputs": [
    {
     "data": {
      "text/html": [
       "<div>\n",
       "<style scoped>\n",
       "    .dataframe tbody tr th:only-of-type {\n",
       "        vertical-align: middle;\n",
       "    }\n",
       "\n",
       "    .dataframe tbody tr th {\n",
       "        vertical-align: top;\n",
       "    }\n",
       "\n",
       "    .dataframe thead th {\n",
       "        text-align: right;\n",
       "    }\n",
       "</style>\n",
       "<table border=\"1\" class=\"dataframe\">\n",
       "  <thead>\n",
       "    <tr style=\"text-align: right;\">\n",
       "      <th></th>\n",
       "      <th>customer_id</th>\n",
       "      <th>treatment</th>\n",
       "      <th>conversion</th>\n",
       "      <th>visit</th>\n",
       "      <th>exposure</th>\n",
       "      <th>class</th>\n",
       "    </tr>\n",
       "  </thead>\n",
       "  <tbody>\n",
       "    <tr>\n",
       "      <th>0</th>\n",
       "      <td>IN-Hung-15894</td>\n",
       "      <td>1</td>\n",
       "      <td>0</td>\n",
       "      <td>0</td>\n",
       "      <td>0</td>\n",
       "      <td>Lost Cause</td>\n",
       "    </tr>\n",
       "    <tr>\n",
       "      <th>1</th>\n",
       "      <td>IN-Jais-17512</td>\n",
       "      <td>1</td>\n",
       "      <td>0</td>\n",
       "      <td>0</td>\n",
       "      <td>0</td>\n",
       "      <td>Lost Cause</td>\n",
       "    </tr>\n",
       "    <tr>\n",
       "      <th>2</th>\n",
       "      <td>IN-Akle-17369</td>\n",
       "      <td>1</td>\n",
       "      <td>0</td>\n",
       "      <td>0</td>\n",
       "      <td>0</td>\n",
       "      <td>Lost Cause</td>\n",
       "    </tr>\n",
       "    <tr>\n",
       "      <th>3</th>\n",
       "      <td>IN-Deol-71539</td>\n",
       "      <td>1</td>\n",
       "      <td>0</td>\n",
       "      <td>0</td>\n",
       "      <td>0</td>\n",
       "      <td>Lost Cause</td>\n",
       "    </tr>\n",
       "    <tr>\n",
       "      <th>4</th>\n",
       "      <td>IN-Puja-7705</td>\n",
       "      <td>1</td>\n",
       "      <td>0</td>\n",
       "      <td>0</td>\n",
       "      <td>0</td>\n",
       "      <td>Lost Cause</td>\n",
       "    </tr>\n",
       "  </tbody>\n",
       "</table>\n",
       "</div>"
      ],
      "text/plain": [
       "     customer_id  treatment  conversion  visit  exposure       class\n",
       "0  IN-Hung-15894          1           0      0         0  Lost Cause\n",
       "1  IN-Jais-17512          1           0      0         0  Lost Cause\n",
       "2  IN-Akle-17369          1           0      0         0  Lost Cause\n",
       "3  IN-Deol-71539          1           0      0         0  Lost Cause\n",
       "4   IN-Puja-7705          1           0      0         0  Lost Cause"
      ]
     },
     "execution_count": 6,
     "metadata": {},
     "output_type": "execute_result"
    }
   ],
   "source": [
    "# Reading Campaign data \n",
    "campaign_data = pd.read_csv('campaign_data.csv')\n",
    "campaign_data.head()"
   ]
  },
  {
   "cell_type": "code",
   "execution_count": 7,
   "metadata": {},
   "outputs": [
    {
     "name": "stdout",
     "output_type": "stream",
     "text": [
      "<class 'pandas.core.frame.DataFrame'>\n",
      "RangeIndex: 104064 entries, 0 to 104063\n",
      "Data columns (total 6 columns):\n",
      " #   Column       Non-Null Count   Dtype \n",
      "---  ------       --------------   ----- \n",
      " 0   customer_id  104064 non-null  object\n",
      " 1   treatment    104064 non-null  int64 \n",
      " 2   conversion   104064 non-null  int64 \n",
      " 3   visit        104064 non-null  int64 \n",
      " 4   exposure     104064 non-null  int64 \n",
      " 5   class        104064 non-null  object\n",
      "dtypes: int64(4), object(2)\n",
      "memory usage: 4.8+ MB\n"
     ]
    }
   ],
   "source": [
    "campaign_data.info()"
   ]
  },
  {
   "cell_type": "code",
   "execution_count": 8,
   "metadata": {},
   "outputs": [
    {
     "data": {
      "text/plain": [
       "array(['Lost Cause', 'Persuadables', 'Sure Thing', 'Dont Disturb'],\n",
       "      dtype=object)"
      ]
     },
     "execution_count": 8,
     "metadata": {},
     "output_type": "execute_result"
    }
   ],
   "source": [
    "campaign_data['class'].unique()"
   ]
  },
  {
   "cell_type": "code",
   "execution_count": 9,
   "metadata": {},
   "outputs": [
    {
     "name": "stdout",
     "output_type": "stream",
     "text": [
      "customer_table info \n",
      "<class 'pandas.core.frame.DataFrame'>\n",
      "RangeIndex: 104064 entries, 0 to 104063\n",
      "Data columns (total 5 columns):\n",
      " #   Column       Non-Null Count   Dtype \n",
      "---  ------       --------------   ----- \n",
      " 0   name         104064 non-null  object\n",
      " 1   city         104064 non-null  object\n",
      " 2   country      104064 non-null  object\n",
      " 3   customer_id  104064 non-null  object\n",
      " 4   phn_no       104064 non-null  int64 \n",
      "dtypes: int64(1), object(4)\n",
      "memory usage: 4.0+ MB\n",
      "None\n"
     ]
    }
   ],
   "source": [
    "print(\"customer_table info \")\n",
    "print(customer_table.info())"
   ]
  },
  {
   "cell_type": "code",
   "execution_count": 10,
   "metadata": {},
   "outputs": [
    {
     "name": "stdout",
     "output_type": "stream",
     "text": [
      "<class 'pandas.core.frame.DataFrame'>\n",
      "RangeIndex: 104064 entries, 0 to 104063\n",
      "Data columns (total 5 columns):\n",
      " #   Column       Non-Null Count   Dtype \n",
      "---  ------       --------------   ----- \n",
      " 0   name         104064 non-null  object\n",
      " 1   city         104064 non-null  object\n",
      " 2   country      104064 non-null  object\n",
      " 3   customer_id  104064 non-null  object\n",
      " 4   phn_no       104064 non-null  int64 \n",
      "dtypes: int64(1), object(4)\n",
      "memory usage: 4.0+ MB\n"
     ]
    }
   ],
   "source": [
    "df = customer_table.dropna(axis=1)\n",
    "df.info()"
   ]
  },
  {
   "cell_type": "code",
   "execution_count": 11,
   "metadata": {},
   "outputs": [
    {
     "name": "stdout",
     "output_type": "stream",
     "text": [
      "order_table info \n",
      "<class 'pandas.core.frame.DataFrame'>\n",
      "RangeIndex: 615083 entries, 0 to 615082\n",
      "Data columns (total 8 columns):\n",
      " #   Column                         Non-Null Count   Dtype \n",
      "---  ------                         --------------   ----- \n",
      " 0   order_id                       615083 non-null  object\n",
      " 1   customer_id                    615083 non-null  object\n",
      " 2   Product_Name                   615063 non-null  object\n",
      " 3   category_name                  614919 non-null  object\n",
      " 4   order_purchase_date            615083 non-null  object\n",
      " 5   order_estimated_delivery_date  615083 non-null  object\n",
      " 6   order_customer_delivery_date   615083 non-null  object\n",
      " 7   status                         615068 non-null  object\n",
      "dtypes: object(8)\n",
      "memory usage: 37.5+ MB\n",
      "None\n"
     ]
    }
   ],
   "source": [
    "print(\"order_table info \")\n",
    "print(order_table.info())"
   ]
  },
  {
   "attachments": {},
   "cell_type": "markdown",
   "metadata": {},
   "source": [
    "* There are Null value in 'Product_Name', 'category_name' and 'status' columns\n"
   ]
  },
  {
   "cell_type": "code",
   "execution_count": 12,
   "metadata": {},
   "outputs": [],
   "source": [
    "# Replacing all '\\N' and 'Nan' with None, these values most probabily are Null values \n",
    "order_table.replace('\\\\N',None,inplace=True)\n",
    "order_table.replace(np.nan,None,regex=True, inplace=True)"
   ]
  },
  {
   "cell_type": "code",
   "execution_count": 13,
   "metadata": {},
   "outputs": [
    {
     "data": {
      "text/plain": [
       "array(['Beauty & Grooming', \"Women's Fashion\", 'Mobiles & Tablets',\n",
       "       'Appliances', \"Men's Fashion\", 'Others', 'Home & Living',\n",
       "       'Soghaat', 'Computing', 'Health & Sports', 'Kids & Baby',\n",
       "       'Entertainment', 'Superstore', None, 'School & Education', 'Books'],\n",
       "      dtype=object)"
      ]
     },
     "execution_count": 13,
     "metadata": {},
     "output_type": "execute_result"
    }
   ],
   "source": [
    "# Checking if '\\N' Values are replaced with Null or not \n",
    "order_table.category_name.unique()"
   ]
  },
  {
   "attachments": {},
   "cell_type": "markdown",
   "metadata": {},
   "source": [
    "Checking Unique values and their counts in category_name column"
   ]
  },
  {
   "cell_type": "code",
   "execution_count": 14,
   "metadata": {},
   "outputs": [
    {
     "data": {
      "text/plain": [
       "Mobiles & Tablets     121735\n",
       "Men's Fashion          97591\n",
       "Women's Fashion        66580\n",
       "Appliances             53948\n",
       "Superstore             44522\n",
       "Beauty & Grooming      44080\n",
       "Soghaat                35467\n",
       "Others                 29382\n",
       "Home & Living          28713\n",
       "Entertainment          27276\n",
       "Health & Sports        18285\n",
       "Kids & Baby            17416\n",
       "Computing              16559\n",
       "School & Education      3502\n",
       "Books                   1870\n",
       "Name: category_name, dtype: int64"
      ]
     },
     "execution_count": 14,
     "metadata": {},
     "output_type": "execute_result"
    }
   ],
   "source": [
    "order_table.category_name.value_counts()"
   ]
  },
  {
   "attachments": {},
   "cell_type": "markdown",
   "metadata": {},
   "source": [
    "* None values in category_name column replace with 'Others' category "
   ]
  },
  {
   "cell_type": "code",
   "execution_count": 15,
   "metadata": {},
   "outputs": [
    {
     "data": {
      "text/plain": [
       "complete          250084\n",
       "canceled          208141\n",
       "received           79459\n",
       "order_refunded     63350\n",
       "refund              8750\n",
       "cod                 2859\n",
       "paid                1159\n",
       "closed              1072\n",
       "payment_review        57\n",
       "pending               48\n",
       "processing            33\n",
       "holded                31\n",
       "fraud                 10\n",
       "pending_paypal         7\n",
       "exchange               4\n",
       "Name: status, dtype: int64"
      ]
     },
     "execution_count": 15,
     "metadata": {},
     "output_type": "execute_result"
    }
   ],
   "source": [
    "order_table.status.value_counts()"
   ]
  },
  {
   "attachments": {},
   "cell_type": "markdown",
   "metadata": {},
   "source": [
    "* None values in status column will replace with 'complete' status \n"
   ]
  },
  {
   "cell_type": "code",
   "execution_count": 16,
   "metadata": {},
   "outputs": [],
   "source": [
    "# Filling None values in category_name column with \"Others\" category\n",
    "order_table['category_name'].fillna('Others',inplace=True)\n",
    "\n",
    "# Filling None values in Product_Name column with most frequent Product_Name\n",
    "\n",
    "order_table['Product_Name'].fillna(order_table['Product_Name'].mode()[0], inplace=True)\n",
    "\n",
    "# Replacing 'None' status values in status column as 'complete'\n",
    "order_table['status'].fillna('complete', inplace=True)\n",
    "\n"
   ]
  },
  {
   "cell_type": "code",
   "execution_count": 17,
   "metadata": {},
   "outputs": [
    {
     "name": "stdout",
     "output_type": "stream",
     "text": [
      "<class 'pandas.core.frame.DataFrame'>\n",
      "RangeIndex: 615083 entries, 0 to 615082\n",
      "Data columns (total 8 columns):\n",
      " #   Column                         Non-Null Count   Dtype \n",
      "---  ------                         --------------   ----- \n",
      " 0   order_id                       615083 non-null  object\n",
      " 1   customer_id                    615083 non-null  object\n",
      " 2   Product_Name                   615083 non-null  object\n",
      " 3   category_name                  615083 non-null  object\n",
      " 4   order_purchase_date            615083 non-null  object\n",
      " 5   order_estimated_delivery_date  615083 non-null  object\n",
      " 6   order_customer_delivery_date   615083 non-null  object\n",
      " 7   status                         615083 non-null  object\n",
      "dtypes: object(8)\n",
      "memory usage: 37.5+ MB\n"
     ]
    }
   ],
   "source": [
    "order_table.info()"
   ]
  },
  {
   "cell_type": "code",
   "execution_count": 18,
   "metadata": {},
   "outputs": [
    {
     "name": "stdout",
     "output_type": "stream",
     "text": [
      "<class 'pandas.core.frame.DataFrame'>\n",
      "RangeIndex: 615083 entries, 0 to 615082\n",
      "Data columns (total 9 columns):\n",
      " #   Column           Non-Null Count   Dtype  \n",
      "---  ------           --------------   -----  \n",
      " 0   order_id         615083 non-null  object \n",
      " 1   customer_id      615083 non-null  object \n",
      " 2   TRANS_ID         615083 non-null  object \n",
      " 3   price            615083 non-null  float64\n",
      " 4   discount_amount  615081 non-null  float64\n",
      " 5   qty_ordered      615083 non-null  int64  \n",
      " 6   grand_total      615083 non-null  float64\n",
      " 7   Payment_method   615083 non-null  object \n",
      " 8   Trans_date       615083 non-null  object \n",
      "dtypes: float64(3), int64(1), object(5)\n",
      "memory usage: 42.2+ MB\n"
     ]
    }
   ],
   "source": [
    "transactions_table.info()"
   ]
  },
  {
   "attachments": {},
   "cell_type": "markdown",
   "metadata": {},
   "source": [
    "* Only 'discount_column' have Null value present. "
   ]
  },
  {
   "cell_type": "code",
   "execution_count": 19,
   "metadata": {},
   "outputs": [],
   "source": [
    "transactions_table['discount_amount'] = transactions_table['discount_amount'].fillna(transactions_table.groupby(\"customer_id\")['discount_amount'].transform('mean'))"
   ]
  },
  {
   "cell_type": "code",
   "execution_count": 20,
   "metadata": {},
   "outputs": [
    {
     "name": "stdout",
     "output_type": "stream",
     "text": [
      "<class 'pandas.core.frame.DataFrame'>\n",
      "RangeIndex: 615083 entries, 0 to 615082\n",
      "Data columns (total 9 columns):\n",
      " #   Column           Non-Null Count   Dtype  \n",
      "---  ------           --------------   -----  \n",
      " 0   order_id         615083 non-null  object \n",
      " 1   customer_id      615083 non-null  object \n",
      " 2   TRANS_ID         615083 non-null  object \n",
      " 3   price            615083 non-null  float64\n",
      " 4   discount_amount  615083 non-null  float64\n",
      " 5   qty_ordered      615083 non-null  int64  \n",
      " 6   grand_total      615083 non-null  float64\n",
      " 7   Payment_method   615083 non-null  object \n",
      " 8   Trans_date       615083 non-null  object \n",
      "dtypes: float64(3), int64(1), object(5)\n",
      "memory usage: 42.2+ MB\n"
     ]
    }
   ],
   "source": [
    "transactions_table.info()"
   ]
  },
  {
   "attachments": {},
   "cell_type": "markdown",
   "metadata": {},
   "source": [
    "**Now Our All dataframes have no null values**"
   ]
  },
  {
   "cell_type": "code",
   "execution_count": 21,
   "metadata": {},
   "outputs": [
    {
     "name": "stdout",
     "output_type": "stream",
     "text": [
      "count      104064.0\n",
      "mean        50428.0\n",
      "std        147715.0\n",
      "min            50.0\n",
      "25%         15132.0\n",
      "50%         32445.0\n",
      "75%         63603.0\n",
      "max      18043449.0\n",
      "Name: grand_total, dtype: float64\n"
     ]
    },
    {
     "data": {
      "text/plain": [
       "<AxesSubplot: ylabel='Frequency'>"
      ]
     },
     "execution_count": 21,
     "metadata": {},
     "output_type": "execute_result"
    },
    {
     "data": {
      "image/png": "[encoded data removed]",
      "text/plain": [
       "<Figure size 640x480 with 1 Axes>"
      ]
     },
     "metadata": {},
     "output_type": "display_data"
    }
   ],
   "source": [
    "print(transactions_table.groupby('customer_id').grand_total.sum().describe().round())#.quantile([0.25,0.5,0.75]))\n",
    "transactions_table.groupby('customer_id').grand_total.sum().plot.hist()"
   ]
  },
  {
   "attachments": {},
   "cell_type": "markdown",
   "metadata": {},
   "source": [
    "* In Grand Total column some data points value is too high, so checking in 'price' and 'qty_ordered' column for outliers. "
   ]
  },
  {
   "attachments": {},
   "cell_type": "markdown",
   "metadata": {},
   "source": [
    "**price column**"
   ]
  },
  {
   "cell_type": "code",
   "execution_count": 22,
   "metadata": {},
   "outputs": [
    {
     "name": "stdout",
     "output_type": "stream",
     "text": [
      "count     104064.00\n",
      "mean       37001.78\n",
      "std        39602.97\n",
      "min            1.00\n",
      "25%         8288.00\n",
      "50%        24367.00\n",
      "75%        50063.75\n",
      "max      1086342.88\n",
      "Name: price, dtype: float64\n"
     ]
    },
    {
     "data": {
      "text/plain": [
       "<AxesSubplot: >"
      ]
     },
     "execution_count": 22,
     "metadata": {},
     "output_type": "execute_result"
    },
    {
     "data": {
      "image/png": "[encoded data removed]",
      "text/plain": [
       "<Figure size 640x480 with 1 Axes>"
      ]
     },
     "metadata": {},
     "output_type": "display_data"
    }
   ],
   "source": [
    "print(transactions_table.groupby('customer_id').price.sum().describe().round(2))\n",
    "sns.violinplot(transactions_table.groupby('customer_id').price.sum())\n"
   ]
  },
  {
   "cell_type": "code",
   "execution_count": 23,
   "metadata": {},
   "outputs": [
    {
     "name": "stdout",
     "output_type": "stream",
     "text": [
      "Percentile value of top product  330499.0\n",
      "AxesSubplot(0.125,0.11;0.775x0.77)\n"
     ]
    },
    {
     "data": {
      "image/png": "[encoded data removed]",
      "text/plain": [
       "<Figure size 640x480 with 1 Axes>"
      ]
     },
     "metadata": {},
     "output_type": "display_data"
    }
   ],
   "source": [
    "val = np.quantile(transactions_table.price, 0.99999) #Checking for top 0.00001 percent product's price\n",
    "print('Percentile value of top product ',val)\n",
    "print(transactions_table[transactions_table.price>=val].price.plot.hist()) #.merge(order_table, how='inner', on='order_id')\n",
    "\n"
   ]
  },
  {
   "cell_type": "code",
   "execution_count": 24,
   "metadata": {},
   "outputs": [
    {
     "data": {
      "text/html": [
       "<div>\n",
       "<style scoped>\n",
       "    .dataframe tbody tr th:only-of-type {\n",
       "        vertical-align: middle;\n",
       "    }\n",
       "\n",
       "    .dataframe tbody tr th {\n",
       "        vertical-align: top;\n",
       "    }\n",
       "\n",
       "    .dataframe thead th {\n",
       "        text-align: right;\n",
       "    }\n",
       "</style>\n",
       "<table border=\"1\" class=\"dataframe\">\n",
       "  <thead>\n",
       "    <tr style=\"text-align: right;\">\n",
       "      <th></th>\n",
       "      <th>order_id</th>\n",
       "      <th>customer_id_x</th>\n",
       "      <th>TRANS_ID</th>\n",
       "      <th>price</th>\n",
       "      <th>discount_amount</th>\n",
       "      <th>qty_ordered</th>\n",
       "      <th>grand_total</th>\n",
       "      <th>Payment_method</th>\n",
       "      <th>Trans_date</th>\n",
       "      <th>customer_id_y</th>\n",
       "      <th>Product_Name</th>\n",
       "      <th>category_name</th>\n",
       "      <th>order_purchase_date</th>\n",
       "      <th>order_estimated_delivery_date</th>\n",
       "      <th>order_customer_delivery_date</th>\n",
       "      <th>status</th>\n",
       "    </tr>\n",
       "  </thead>\n",
       "  <tbody>\n",
       "    <tr>\n",
       "      <th>0</th>\n",
       "      <td>EKGEXF-1863170</td>\n",
       "      <td>IN-Beta-47094</td>\n",
       "      <td>T0DP14DMD60L6LP</td>\n",
       "      <td>479000.000</td>\n",
       "      <td>0.0</td>\n",
       "      <td>1</td>\n",
       "      <td>479000.000</td>\n",
       "      <td>COD</td>\n",
       "      <td>2019-03-18</td>\n",
       "      <td>IN-Beta-47094</td>\n",
       "      <td>yamaha_EF12000E</td>\n",
       "      <td>Appliances</td>\n",
       "      <td>2019-03-18</td>\n",
       "      <td>2019-07-05</td>\n",
       "      <td>2019-07-08</td>\n",
       "      <td>canceled</td>\n",
       "    </tr>\n",
       "    <tr>\n",
       "      <th>1</th>\n",
       "      <td>AKWGST-1467390</td>\n",
       "      <td>IN-Srin-24405</td>\n",
       "      <td>T121XHULD3J3ZGZ</td>\n",
       "      <td>330499.000</td>\n",
       "      <td>0.0</td>\n",
       "      <td>1</td>\n",
       "      <td>330499.000</td>\n",
       "      <td>COD</td>\n",
       "      <td>2020-09-13</td>\n",
       "      <td>IN-Srin-24405</td>\n",
       "      <td>samsung_SUHD TV? KS 8000 60\"</td>\n",
       "      <td>Entertainment</td>\n",
       "      <td>2020-09-13</td>\n",
       "      <td>2020-12-02</td>\n",
       "      <td>2020-12-04</td>\n",
       "      <td>canceled</td>\n",
       "    </tr>\n",
       "    <tr>\n",
       "      <th>2</th>\n",
       "      <td>FXBXGM-2274570</td>\n",
       "      <td>IN-Dals-57407</td>\n",
       "      <td>T8PYGJB7QQE7ID5</td>\n",
       "      <td>479000.000</td>\n",
       "      <td>0.0</td>\n",
       "      <td>1</td>\n",
       "      <td>479000.000</td>\n",
       "      <td>Online/Card</td>\n",
       "      <td>2020-08-09</td>\n",
       "      <td>IN-Dals-57407</td>\n",
       "      <td>yamaha_EF12000E</td>\n",
       "      <td>Appliances</td>\n",
       "      <td>2020-08-09</td>\n",
       "      <td>2020-11-03</td>\n",
       "      <td>2020-10-31</td>\n",
       "      <td>canceled</td>\n",
       "    </tr>\n",
       "    <tr>\n",
       "      <th>3</th>\n",
       "      <td>KDPIJW-3520352</td>\n",
       "      <td>IN-Barb-47142</td>\n",
       "      <td>TCNESW77CGWMSWY</td>\n",
       "      <td>479000.000</td>\n",
       "      <td>0.0</td>\n",
       "      <td>1</td>\n",
       "      <td>479000.000</td>\n",
       "      <td>Online/Card</td>\n",
       "      <td>2017-03-21</td>\n",
       "      <td>IN-Barb-47142</td>\n",
       "      <td>yamaha_EF12000E</td>\n",
       "      <td>Appliances</td>\n",
       "      <td>2017-03-21</td>\n",
       "      <td>2017-05-30</td>\n",
       "      <td>2017-05-30</td>\n",
       "      <td>order_refunded</td>\n",
       "    </tr>\n",
       "    <tr>\n",
       "      <th>4</th>\n",
       "      <td>NVNNII-1035643</td>\n",
       "      <td>IN-Kend-78738</td>\n",
       "      <td>TJH3K8C3SFTP86Z</td>\n",
       "      <td>515975.000</td>\n",
       "      <td>2000.0</td>\n",
       "      <td>1</td>\n",
       "      <td>513975.000</td>\n",
       "      <td>COD</td>\n",
       "      <td>2021-03-17</td>\n",
       "      <td>IN-Kend-78738</td>\n",
       "      <td>ENTSAM59B7C1FA12478</td>\n",
       "      <td>Entertainment</td>\n",
       "      <td>2021-03-17</td>\n",
       "      <td>2021-06-26</td>\n",
       "      <td>2021-06-16</td>\n",
       "      <td>canceled</td>\n",
       "    </tr>\n",
       "    <tr>\n",
       "      <th>5</th>\n",
       "      <td>CQYMFK-2075984</td>\n",
       "      <td>IN-Soja-2660</td>\n",
       "      <td>TL6MJ9XQQGKMXY2</td>\n",
       "      <td>1012625.875</td>\n",
       "      <td>0.0</td>\n",
       "      <td>1</td>\n",
       "      <td>1012625.875</td>\n",
       "      <td>COD</td>\n",
       "      <td>2020-10-19</td>\n",
       "      <td>IN-Soja-2660</td>\n",
       "      <td>BAGGEM5A7038AC06C9A</td>\n",
       "      <td>Beauty &amp; Grooming</td>\n",
       "      <td>2020-10-19</td>\n",
       "      <td>2021-01-07</td>\n",
       "      <td>2020-12-29</td>\n",
       "      <td>canceled</td>\n",
       "    </tr>\n",
       "    <tr>\n",
       "      <th>6</th>\n",
       "      <td>AREMEC-1097086</td>\n",
       "      <td>IN-Bhay-83761</td>\n",
       "      <td>TTZNT504XVKTXL6</td>\n",
       "      <td>479000.000</td>\n",
       "      <td>0.0</td>\n",
       "      <td>1</td>\n",
       "      <td>479000.000</td>\n",
       "      <td>COD</td>\n",
       "      <td>2014-10-18</td>\n",
       "      <td>IN-Bhay-83761</td>\n",
       "      <td>yamaha_EF12000E</td>\n",
       "      <td>Appliances</td>\n",
       "      <td>2014-10-18</td>\n",
       "      <td>2015-02-12</td>\n",
       "      <td>2015-02-02</td>\n",
       "      <td>canceled</td>\n",
       "    </tr>\n",
       "    <tr>\n",
       "      <th>7</th>\n",
       "      <td>YFGYFH-1951138</td>\n",
       "      <td>IN-Srin-58403</td>\n",
       "      <td>TY9C301N9O89OLN</td>\n",
       "      <td>330499.000</td>\n",
       "      <td>0.0</td>\n",
       "      <td>1</td>\n",
       "      <td>330499.000</td>\n",
       "      <td>Online/Card</td>\n",
       "      <td>2020-07-26</td>\n",
       "      <td>IN-Srin-58403</td>\n",
       "      <td>Samsung_60KS8000</td>\n",
       "      <td>Entertainment</td>\n",
       "      <td>2020-07-26</td>\n",
       "      <td>2020-08-11</td>\n",
       "      <td>2020-08-21</td>\n",
       "      <td>canceled</td>\n",
       "    </tr>\n",
       "  </tbody>\n",
       "</table>\n",
       "</div>"
      ],
      "text/plain": [
       "         order_id  customer_id_x         TRANS_ID        price  \\\n",
       "0  EKGEXF-1863170  IN-Beta-47094  T0DP14DMD60L6LP   479000.000   \n",
       "1  AKWGST-1467390  IN-Srin-24405  T121XHULD3J3ZGZ   330499.000   \n",
       "2  FXBXGM-2274570  IN-Dals-57407  T8PYGJB7QQE7ID5   479000.000   \n",
       "3  KDPIJW-3520352  IN-Barb-47142  TCNESW77CGWMSWY   479000.000   \n",
       "4  NVNNII-1035643  IN-Kend-78738  TJH3K8C3SFTP86Z   515975.000   \n",
       "5  CQYMFK-2075984   IN-Soja-2660  TL6MJ9XQQGKMXY2  1012625.875   \n",
       "6  AREMEC-1097086  IN-Bhay-83761  TTZNT504XVKTXL6   479000.000   \n",
       "7  YFGYFH-1951138  IN-Srin-58403  TY9C301N9O89OLN   330499.000   \n",
       "\n",
       "   discount_amount  qty_ordered  grand_total Payment_method  Trans_date  \\\n",
       "0              0.0            1   479000.000            COD  2019-03-18   \n",
       "1              0.0            1   330499.000            COD  2020-09-13   \n",
       "2              0.0            1   479000.000    Online/Card  2020-08-09   \n",
       "3              0.0            1   479000.000    Online/Card  2017-03-21   \n",
       "4           2000.0            1   513975.000            COD  2021-03-17   \n",
       "5              0.0            1  1012625.875            COD  2020-10-19   \n",
       "6              0.0            1   479000.000            COD  2014-10-18   \n",
       "7              0.0            1   330499.000    Online/Card  2020-07-26   \n",
       "\n",
       "   customer_id_y                  Product_Name      category_name  \\\n",
       "0  IN-Beta-47094               yamaha_EF12000E         Appliances   \n",
       "1  IN-Srin-24405  samsung_SUHD TV? KS 8000 60\"      Entertainment   \n",
       "2  IN-Dals-57407               yamaha_EF12000E         Appliances   \n",
       "3  IN-Barb-47142               yamaha_EF12000E         Appliances   \n",
       "4  IN-Kend-78738           ENTSAM59B7C1FA12478      Entertainment   \n",
       "5   IN-Soja-2660           BAGGEM5A7038AC06C9A  Beauty & Grooming   \n",
       "6  IN-Bhay-83761               yamaha_EF12000E         Appliances   \n",
       "7  IN-Srin-58403              Samsung_60KS8000      Entertainment   \n",
       "\n",
       "  order_purchase_date order_estimated_delivery_date  \\\n",
       "0          2019-03-18                    2019-07-05   \n",
       "1          2020-09-13                    2020-12-02   \n",
       "2          2020-08-09                    2020-11-03   \n",
       "3          2017-03-21                    2017-05-30   \n",
       "4          2021-03-17                    2021-06-26   \n",
       "5          2020-10-19                    2021-01-07   \n",
       "6          2014-10-18                    2015-02-12   \n",
       "7          2020-07-26                    2020-08-11   \n",
       "\n",
       "  order_customer_delivery_date          status  \n",
       "0                   2019-07-08        canceled  \n",
       "1                   2020-12-04        canceled  \n",
       "2                   2020-10-31        canceled  \n",
       "3                   2017-05-30  order_refunded  \n",
       "4                   2021-06-16        canceled  \n",
       "5                   2020-12-29        canceled  \n",
       "6                   2015-02-02        canceled  \n",
       "7                   2020-08-21        canceled  "
      ]
     },
     "execution_count": 24,
     "metadata": {},
     "output_type": "execute_result"
    }
   ],
   "source": [
    "val = np.quantile(transactions_table.price, 0.99999)\n",
    "transactions_table[transactions_table.price>=val].merge(order_table, how='inner', on='order_id')#.groupby('Product_Name').Product_Name.count().sort_values()\n"
   ]
  },
  {
   "attachments": {},
   "cell_type": "markdown",
   "metadata": {},
   "source": [
    "* There are some products whose price are too high, but those are from the Appliance and Entertainment category and it would be possible that these are expensive appliances. "
   ]
  },
  {
   "attachments": {},
   "cell_type": "markdown",
   "metadata": {},
   "source": [
    "**qty_ordered column**"
   ]
  },
  {
   "cell_type": "code",
   "execution_count": 25,
   "metadata": {},
   "outputs": [
    {
     "name": "stdout",
     "output_type": "stream",
     "text": [
      "count    104064.00\n",
      "mean         38.66\n",
      "std         311.50\n",
      "min           1.00\n",
      "25%           9.00\n",
      "50%          17.00\n",
      "75%          33.00\n",
      "max       47056.00\n",
      "Name: qty_ordered, dtype: float64\n"
     ]
    },
    {
     "data": {
      "text/plain": [
       "<AxesSubplot: >"
      ]
     },
     "execution_count": 25,
     "metadata": {},
     "output_type": "execute_result"
    },
    {
     "data": {
      "image/png": "[encoded data removed]",
      "text/plain": [
       "<Figure size 640x480 with 1 Axes>"
      ]
     },
     "metadata": {},
     "output_type": "display_data"
    }
   ],
   "source": [
    "print(transactions_table.groupby('customer_id').qty_ordered.sum().describe().round(2))\n",
    "sns.violinplot(transactions_table.groupby('customer_id').qty_ordered.sum())"
   ]
  },
  {
   "cell_type": "code",
   "execution_count": 26,
   "metadata": {},
   "outputs": [
    {
     "data": {
      "text/html": [
       "<div>\n",
       "<style scoped>\n",
       "    .dataframe tbody tr th:only-of-type {\n",
       "        vertical-align: middle;\n",
       "    }\n",
       "\n",
       "    .dataframe tbody tr th {\n",
       "        vertical-align: top;\n",
       "    }\n",
       "\n",
       "    .dataframe thead th {\n",
       "        text-align: right;\n",
       "    }\n",
       "</style>\n",
       "<table border=\"1\" class=\"dataframe\">\n",
       "  <thead>\n",
       "    <tr style=\"text-align: right;\">\n",
       "      <th></th>\n",
       "      <th>order_id</th>\n",
       "      <th>customer_id</th>\n",
       "      <th>TRANS_ID</th>\n",
       "      <th>price</th>\n",
       "      <th>discount_amount</th>\n",
       "      <th>qty_ordered</th>\n",
       "      <th>grand_total</th>\n",
       "      <th>Payment_method</th>\n",
       "      <th>Trans_date</th>\n",
       "    </tr>\n",
       "  </thead>\n",
       "  <tbody>\n",
       "    <tr>\n",
       "      <th>120866</th>\n",
       "      <td>TIEJOX-2414191</td>\n",
       "      <td>IN-Domb-45305</td>\n",
       "      <td>T72WNG8UM2SYQN7</td>\n",
       "      <td>1.0</td>\n",
       "      <td>1650.000000</td>\n",
       "      <td>30743</td>\n",
       "      <td>29093.000000</td>\n",
       "      <td>Online/Card</td>\n",
       "      <td>2021-08-07</td>\n",
       "    </tr>\n",
       "    <tr>\n",
       "      <th>128752</th>\n",
       "      <td>JEFJGX-2888854</td>\n",
       "      <td>IN-Saha-50071</td>\n",
       "      <td>T7JSDSI8O9AWF7A</td>\n",
       "      <td>1.0</td>\n",
       "      <td>0.000000</td>\n",
       "      <td>19151</td>\n",
       "      <td>19151.000000</td>\n",
       "      <td>COD</td>\n",
       "      <td>2019-10-28</td>\n",
       "    </tr>\n",
       "    <tr>\n",
       "      <th>397198</th>\n",
       "      <td>OHHIIT-2974444</td>\n",
       "      <td>IN-Robe-98741</td>\n",
       "      <td>TN7TPZRF1LAA66H</td>\n",
       "      <td>1.0</td>\n",
       "      <td>0.000000</td>\n",
       "      <td>33041</td>\n",
       "      <td>33041.000000</td>\n",
       "      <td>COD</td>\n",
       "      <td>2014-04-22</td>\n",
       "    </tr>\n",
       "    <tr>\n",
       "      <th>537317</th>\n",
       "      <td>VAUQCO-2068280</td>\n",
       "      <td>IN-Alwa-51949</td>\n",
       "      <td>TVFJJA33KKZNCXO</td>\n",
       "      <td>2.0</td>\n",
       "      <td>7627.430176</td>\n",
       "      <td>47039</td>\n",
       "      <td>86450.570312</td>\n",
       "      <td>Online/Card</td>\n",
       "      <td>2014-07-01</td>\n",
       "    </tr>\n",
       "    <tr>\n",
       "      <th>557168</th>\n",
       "      <td>RHCKVA-2009899</td>\n",
       "      <td>IN-Akle-46640</td>\n",
       "      <td>TWLT6RCOX2Q5FYL</td>\n",
       "      <td>1.0</td>\n",
       "      <td>0.000000</td>\n",
       "      <td>25901</td>\n",
       "      <td>25901.000000</td>\n",
       "      <td>Online/Card</td>\n",
       "      <td>2014-09-25</td>\n",
       "    </tr>\n",
       "    <tr>\n",
       "      <th>576344</th>\n",
       "      <td>WWPUVY-4481779</td>\n",
       "      <td>IN-Peri-31921</td>\n",
       "      <td>TXQEZDN7O1260YE</td>\n",
       "      <td>2.0</td>\n",
       "      <td>0.000000</td>\n",
       "      <td>30526</td>\n",
       "      <td>61052.000000</td>\n",
       "      <td>COD</td>\n",
       "      <td>2019-05-22</td>\n",
       "    </tr>\n",
       "    <tr>\n",
       "      <th>600783</th>\n",
       "      <td>FSRRFN-4155906</td>\n",
       "      <td>IN-Gari-50312</td>\n",
       "      <td>TZ5P62N99RSP9SV</td>\n",
       "      <td>1.0</td>\n",
       "      <td>0.000000</td>\n",
       "      <td>31970</td>\n",
       "      <td>31970.000000</td>\n",
       "      <td>COD</td>\n",
       "      <td>2020-08-17</td>\n",
       "    </tr>\n",
       "  </tbody>\n",
       "</table>\n",
       "</div>"
      ],
      "text/plain": [
       "              order_id    customer_id         TRANS_ID  price  \\\n",
       "120866  TIEJOX-2414191  IN-Domb-45305  T72WNG8UM2SYQN7    1.0   \n",
       "128752  JEFJGX-2888854  IN-Saha-50071  T7JSDSI8O9AWF7A    1.0   \n",
       "397198  OHHIIT-2974444  IN-Robe-98741  TN7TPZRF1LAA66H    1.0   \n",
       "537317  VAUQCO-2068280  IN-Alwa-51949  TVFJJA33KKZNCXO    2.0   \n",
       "557168  RHCKVA-2009899  IN-Akle-46640  TWLT6RCOX2Q5FYL    1.0   \n",
       "576344  WWPUVY-4481779  IN-Peri-31921  TXQEZDN7O1260YE    2.0   \n",
       "600783  FSRRFN-4155906  IN-Gari-50312  TZ5P62N99RSP9SV    1.0   \n",
       "\n",
       "        discount_amount  qty_ordered   grand_total Payment_method  Trans_date  \n",
       "120866      1650.000000        30743  29093.000000    Online/Card  2021-08-07  \n",
       "128752         0.000000        19151  19151.000000            COD  2019-10-28  \n",
       "397198         0.000000        33041  33041.000000            COD  2014-04-22  \n",
       "537317      7627.430176        47039  86450.570312    Online/Card  2014-07-01  \n",
       "557168         0.000000        25901  25901.000000    Online/Card  2014-09-25  \n",
       "576344         0.000000        30526  61052.000000            COD  2019-05-22  \n",
       "600783         0.000000        31970  31970.000000            COD  2020-08-17  "
      ]
     },
     "execution_count": 26,
     "metadata": {},
     "output_type": "execute_result"
    }
   ],
   "source": [
    "val = np.quantile(transactions_table.qty_ordered, 0.99999)\n",
    "transactions_table[transactions_table.qty_ordered>=val]#.merge(order_table, how='inner', on='order_id')#.groupby('Product_Name').Product_Name.count().sort_values()\n"
   ]
  },
  {
   "attachments": {},
   "cell_type": "markdown",
   "metadata": {},
   "source": [
    "* there are some rows where qty_ordered are too high (e.g. in thousands) but there prices are '1.0' or '2.0', so it is possible that this are small products ordered in bulk."
   ]
  },
  {
   "attachments": {},
   "cell_type": "markdown",
   "metadata": {},
   "source": [
    "* Finally, even if some data rows seems having too big values, but from the data analysis and visualization, it's clear that those products are legit. \n",
    "* Hence no need to treat them as outliers or drop them. "
   ]
  },
  {
   "attachments": {},
   "cell_type": "markdown",
   "metadata": {},
   "source": [
    "* Finally We get three prepared datasets: \n",
    "    * customer_table\n",
    "    * order_table\n",
    "    * transactions_table"
   ]
  }
 ],
 "metadata": {
  "kernelspec": {
   "display_name": "tigerCaseStudy",
   "language": "python",
   "name": "python3"
  },
  "language_info": {
   "codemirror_mode": {
    "name": "ipython",
    "version": 3
   },
   "file_extension": ".py",
   "mimetype": "text/x-python",
   "name": "python",
   "nbconvert_exporter": "python",
   "pygments_lexer": "ipython3",
   "version": "3.10.8 | packaged by conda-forge | (main, Nov 24 2022, 14:07:00) [MSC v.1916 64 bit (AMD64)]"
  },
  "orig_nbformat": 4,
  "vscode": {
   "interpreter": {
    "hash": "e20f3a58cf6ac02c9963997f993aa648d012efeb07ba62ccf78b150df2029bc9"
   }
  }
 },
 "nbformat": 4,
 "nbformat_minor": 2
}
